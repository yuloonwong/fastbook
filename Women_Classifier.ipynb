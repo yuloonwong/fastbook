{
  "nbformat": 4,
  "nbformat_minor": 0,
  "metadata": {
    "colab": {
      "provenance": [],
      "mount_file_id": "1ym_jQUpfUJZayMpi_5jrKlrnLmF4ijAE",
      "authorship_tag": "ABX9TyMcx6W2uosaEvK6EQZqjuY6",
      "include_colab_link": true
    },
    "kernelspec": {
      "name": "python3",
      "display_name": "Python 3"
    },
    "language_info": {
      "name": "python"
    },
    "widgets": {
      "application/vnd.jupyter.widget-state+json": {
        "b00bb68cea254e9daf9d8c7182cf7c53": {
          "model_module": "@jupyter-widgets/controls",
          "model_name": "VBoxModel",
          "model_module_version": "1.5.0",
          "state": {
            "_dom_classes": [],
            "_model_module": "@jupyter-widgets/controls",
            "_model_module_version": "1.5.0",
            "_model_name": "VBoxModel",
            "_view_count": null,
            "_view_module": "@jupyter-widgets/controls",
            "_view_module_version": "1.5.0",
            "_view_name": "VBoxView",
            "box_style": "",
            "children": [
              "IPY_MODEL_d72b51e89c0a41a38245cc5a2c8743aa",
              "IPY_MODEL_372bef73b7404172801aa4ed7bf1015c",
              "IPY_MODEL_910b1bcc73074032841fbda9fd2e833f",
              "IPY_MODEL_3d0dbb14fe00493f8f41691eea31ae3b",
              "IPY_MODEL_0866c2ab2f2f4001943cb91763231dda"
            ],
            "layout": "IPY_MODEL_904f7441f8764120af12cc817aa3d41c"
          }
        },
        "d72b51e89c0a41a38245cc5a2c8743aa": {
          "model_module": "@jupyter-widgets/controls",
          "model_name": "LabelModel",
          "model_module_version": "1.5.0",
          "state": {
            "_dom_classes": [],
            "_model_module": "@jupyter-widgets/controls",
            "_model_module_version": "1.5.0",
            "_model_name": "LabelModel",
            "_view_count": null,
            "_view_module": "@jupyter-widgets/controls",
            "_view_module_version": "1.5.0",
            "_view_name": "LabelView",
            "description": "",
            "description_tooltip": null,
            "layout": "IPY_MODEL_7664fca8152849cba5b57a2389d447b2",
            "placeholder": "​",
            "style": "IPY_MODEL_eded1ed5b30f43d99fb60c255241efb7",
            "value": "Select your lady!"
          }
        },
        "372bef73b7404172801aa4ed7bf1015c": {
          "model_module": "@jupyter-widgets/controls",
          "model_name": "FileUploadModel",
          "model_module_version": "1.5.0",
          "state": {
            "_counter": 1,
            "_dom_classes": [],
            "_model_module": "@jupyter-widgets/controls",
            "_model_module_version": "1.5.0",
            "_model_name": "FileUploadModel",
            "_view_count": null,
            "_view_module": "@jupyter-widgets/controls",
            "_view_module_version": "1.5.0",
            "_view_name": "FileUploadView",
            "accept": "",
            "button_style": "",
            "data": [
              null
            ],
            "description": "Upload",
            "description_tooltip": null,
            "disabled": false,
            "error": "",
            "icon": "upload",
            "layout": "IPY_MODEL_bfb89c5fdc7b4852b1e888615002bdc7",
            "metadata": [
              {
                "name": "Lance IC photo.jpg",
                "type": "image/jpeg",
                "size": 42031,
                "lastModified": 1612017044373
              }
            ],
            "multiple": false,
            "style": "IPY_MODEL_8093505aa0164e4db04f08cfa4768ed1"
          }
        },
        "910b1bcc73074032841fbda9fd2e833f": {
          "model_module": "@jupyter-widgets/controls",
          "model_name": "ButtonModel",
          "model_module_version": "1.5.0",
          "state": {
            "_dom_classes": [],
            "_model_module": "@jupyter-widgets/controls",
            "_model_module_version": "1.5.0",
            "_model_name": "ButtonModel",
            "_view_count": null,
            "_view_module": "@jupyter-widgets/controls",
            "_view_module_version": "1.5.0",
            "_view_name": "ButtonView",
            "button_style": "",
            "description": "Classify",
            "disabled": false,
            "icon": "",
            "layout": "IPY_MODEL_a2041e13d8074eec84d00de4245bc9bd",
            "style": "IPY_MODEL_7489279268054ffaae8f3c081dc1319d",
            "tooltip": ""
          }
        },
        "3d0dbb14fe00493f8f41691eea31ae3b": {
          "model_module": "@jupyter-widgets/output",
          "model_name": "OutputModel",
          "model_module_version": "1.0.0",
          "state": {
            "_dom_classes": [],
            "_model_module": "@jupyter-widgets/output",
            "_model_module_version": "1.0.0",
            "_model_name": "OutputModel",
            "_view_count": null,
            "_view_module": "@jupyter-widgets/output",
            "_view_module_version": "1.0.0",
            "_view_name": "OutputView",
            "layout": "IPY_MODEL_406e2fb7a4df43bfa3ada24e47208f93",
            "msg_id": "",
            "outputs": [
              {
                "output_type": "display_data",
                "data": {
                  "text/plain": "<PIL.Image.Image image mode=RGB size=100x128>",
                  "image/png": "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\n"
                },
                "metadata": {}
              }
            ]
          }
        },
        "0866c2ab2f2f4001943cb91763231dda": {
          "model_module": "@jupyter-widgets/controls",
          "model_name": "LabelModel",
          "model_module_version": "1.5.0",
          "state": {
            "_dom_classes": [],
            "_model_module": "@jupyter-widgets/controls",
            "_model_module_version": "1.5.0",
            "_model_name": "LabelModel",
            "_view_count": null,
            "_view_module": "@jupyter-widgets/controls",
            "_view_module_version": "1.5.0",
            "_view_name": "LabelView",
            "description": "",
            "description_tooltip": null,
            "layout": "IPY_MODEL_360569ec865f465a9e4f2cc4f64ac361",
            "placeholder": "​",
            "style": "IPY_MODEL_420d8faa8bf340949fd25edf96c66cd0",
            "value": "Prediction: plain; Probability: 0.7783"
          }
        },
        "904f7441f8764120af12cc817aa3d41c": {
          "model_module": "@jupyter-widgets/base",
          "model_name": "LayoutModel",
          "model_module_version": "1.2.0",
          "state": {
            "_model_module": "@jupyter-widgets/base",
            "_model_module_version": "1.2.0",
            "_model_name": "LayoutModel",
            "_view_count": null,
            "_view_module": "@jupyter-widgets/base",
            "_view_module_version": "1.2.0",
            "_view_name": "LayoutView",
            "align_content": null,
            "align_items": null,
            "align_self": null,
            "border": null,
            "bottom": null,
            "display": null,
            "flex": null,
            "flex_flow": null,
            "grid_area": null,
            "grid_auto_columns": null,
            "grid_auto_flow": null,
            "grid_auto_rows": null,
            "grid_column": null,
            "grid_gap": null,
            "grid_row": null,
            "grid_template_areas": null,
            "grid_template_columns": null,
            "grid_template_rows": null,
            "height": null,
            "justify_content": null,
            "justify_items": null,
            "left": null,
            "margin": null,
            "max_height": null,
            "max_width": null,
            "min_height": null,
            "min_width": null,
            "object_fit": null,
            "object_position": null,
            "order": null,
            "overflow": null,
            "overflow_x": null,
            "overflow_y": null,
            "padding": null,
            "right": null,
            "top": null,
            "visibility": null,
            "width": null
          }
        },
        "7664fca8152849cba5b57a2389d447b2": {
          "model_module": "@jupyter-widgets/base",
          "model_name": "LayoutModel",
          "model_module_version": "1.2.0",
          "state": {
            "_model_module": "@jupyter-widgets/base",
            "_model_module_version": "1.2.0",
            "_model_name": "LayoutModel",
            "_view_count": null,
            "_view_module": "@jupyter-widgets/base",
            "_view_module_version": "1.2.0",
            "_view_name": "LayoutView",
            "align_content": null,
            "align_items": null,
            "align_self": null,
            "border": null,
            "bottom": null,
            "display": null,
            "flex": null,
            "flex_flow": null,
            "grid_area": null,
            "grid_auto_columns": null,
            "grid_auto_flow": null,
            "grid_auto_rows": null,
            "grid_column": null,
            "grid_gap": null,
            "grid_row": null,
            "grid_template_areas": null,
            "grid_template_columns": null,
            "grid_template_rows": null,
            "height": null,
            "justify_content": null,
            "justify_items": null,
            "left": null,
            "margin": null,
            "max_height": null,
            "max_width": null,
            "min_height": null,
            "min_width": null,
            "object_fit": null,
            "object_position": null,
            "order": null,
            "overflow": null,
            "overflow_x": null,
            "overflow_y": null,
            "padding": null,
            "right": null,
            "top": null,
            "visibility": null,
            "width": null
          }
        },
        "eded1ed5b30f43d99fb60c255241efb7": {
          "model_module": "@jupyter-widgets/controls",
          "model_name": "DescriptionStyleModel",
          "model_module_version": "1.5.0",
          "state": {
            "_model_module": "@jupyter-widgets/controls",
            "_model_module_version": "1.5.0",
            "_model_name": "DescriptionStyleModel",
            "_view_count": null,
            "_view_module": "@jupyter-widgets/base",
            "_view_module_version": "1.2.0",
            "_view_name": "StyleView",
            "description_width": ""
          }
        },
        "bfb89c5fdc7b4852b1e888615002bdc7": {
          "model_module": "@jupyter-widgets/base",
          "model_name": "LayoutModel",
          "model_module_version": "1.2.0",
          "state": {
            "_model_module": "@jupyter-widgets/base",
            "_model_module_version": "1.2.0",
            "_model_name": "LayoutModel",
            "_view_count": null,
            "_view_module": "@jupyter-widgets/base",
            "_view_module_version": "1.2.0",
            "_view_name": "LayoutView",
            "align_content": null,
            "align_items": null,
            "align_self": null,
            "border": null,
            "bottom": null,
            "display": null,
            "flex": null,
            "flex_flow": null,
            "grid_area": null,
            "grid_auto_columns": null,
            "grid_auto_flow": null,
            "grid_auto_rows": null,
            "grid_column": null,
            "grid_gap": null,
            "grid_row": null,
            "grid_template_areas": null,
            "grid_template_columns": null,
            "grid_template_rows": null,
            "height": null,
            "justify_content": null,
            "justify_items": null,
            "left": null,
            "margin": null,
            "max_height": null,
            "max_width": null,
            "min_height": null,
            "min_width": null,
            "object_fit": null,
            "object_position": null,
            "order": null,
            "overflow": null,
            "overflow_x": null,
            "overflow_y": null,
            "padding": null,
            "right": null,
            "top": null,
            "visibility": null,
            "width": null
          }
        },
        "8093505aa0164e4db04f08cfa4768ed1": {
          "model_module": "@jupyter-widgets/controls",
          "model_name": "ButtonStyleModel",
          "model_module_version": "1.5.0",
          "state": {
            "_model_module": "@jupyter-widgets/controls",
            "_model_module_version": "1.5.0",
            "_model_name": "ButtonStyleModel",
            "_view_count": null,
            "_view_module": "@jupyter-widgets/base",
            "_view_module_version": "1.2.0",
            "_view_name": "StyleView",
            "button_color": null,
            "font_weight": ""
          }
        },
        "a2041e13d8074eec84d00de4245bc9bd": {
          "model_module": "@jupyter-widgets/base",
          "model_name": "LayoutModel",
          "model_module_version": "1.2.0",
          "state": {
            "_model_module": "@jupyter-widgets/base",
            "_model_module_version": "1.2.0",
            "_model_name": "LayoutModel",
            "_view_count": null,
            "_view_module": "@jupyter-widgets/base",
            "_view_module_version": "1.2.0",
            "_view_name": "LayoutView",
            "align_content": null,
            "align_items": null,
            "align_self": null,
            "border": null,
            "bottom": null,
            "display": null,
            "flex": null,
            "flex_flow": null,
            "grid_area": null,
            "grid_auto_columns": null,
            "grid_auto_flow": null,
            "grid_auto_rows": null,
            "grid_column": null,
            "grid_gap": null,
            "grid_row": null,
            "grid_template_areas": null,
            "grid_template_columns": null,
            "grid_template_rows": null,
            "height": null,
            "justify_content": null,
            "justify_items": null,
            "left": null,
            "margin": null,
            "max_height": null,
            "max_width": null,
            "min_height": null,
            "min_width": null,
            "object_fit": null,
            "object_position": null,
            "order": null,
            "overflow": null,
            "overflow_x": null,
            "overflow_y": null,
            "padding": null,
            "right": null,
            "top": null,
            "visibility": null,
            "width": null
          }
        },
        "7489279268054ffaae8f3c081dc1319d": {
          "model_module": "@jupyter-widgets/controls",
          "model_name": "ButtonStyleModel",
          "model_module_version": "1.5.0",
          "state": {
            "_model_module": "@jupyter-widgets/controls",
            "_model_module_version": "1.5.0",
            "_model_name": "ButtonStyleModel",
            "_view_count": null,
            "_view_module": "@jupyter-widgets/base",
            "_view_module_version": "1.2.0",
            "_view_name": "StyleView",
            "button_color": null,
            "font_weight": ""
          }
        },
        "360569ec865f465a9e4f2cc4f64ac361": {
          "model_module": "@jupyter-widgets/base",
          "model_name": "LayoutModel",
          "model_module_version": "1.2.0",
          "state": {
            "_model_module": "@jupyter-widgets/base",
            "_model_module_version": "1.2.0",
            "_model_name": "LayoutModel",
            "_view_count": null,
            "_view_module": "@jupyter-widgets/base",
            "_view_module_version": "1.2.0",
            "_view_name": "LayoutView",
            "align_content": null,
            "align_items": null,
            "align_self": null,
            "border": null,
            "bottom": null,
            "display": null,
            "flex": null,
            "flex_flow": null,
            "grid_area": null,
            "grid_auto_columns": null,
            "grid_auto_flow": null,
            "grid_auto_rows": null,
            "grid_column": null,
            "grid_gap": null,
            "grid_row": null,
            "grid_template_areas": null,
            "grid_template_columns": null,
            "grid_template_rows": null,
            "height": null,
            "justify_content": null,
            "justify_items": null,
            "left": null,
            "margin": null,
            "max_height": null,
            "max_width": null,
            "min_height": null,
            "min_width": null,
            "object_fit": null,
            "object_position": null,
            "order": null,
            "overflow": null,
            "overflow_x": null,
            "overflow_y": null,
            "padding": null,
            "right": null,
            "top": null,
            "visibility": null,
            "width": null
          }
        },
        "420d8faa8bf340949fd25edf96c66cd0": {
          "model_module": "@jupyter-widgets/controls",
          "model_name": "DescriptionStyleModel",
          "model_module_version": "1.5.0",
          "state": {
            "_model_module": "@jupyter-widgets/controls",
            "_model_module_version": "1.5.0",
            "_model_name": "DescriptionStyleModel",
            "_view_count": null,
            "_view_module": "@jupyter-widgets/base",
            "_view_module_version": "1.2.0",
            "_view_name": "StyleView",
            "description_width": ""
          }
        },
        "406e2fb7a4df43bfa3ada24e47208f93": {
          "model_module": "@jupyter-widgets/base",
          "model_name": "LayoutModel",
          "model_module_version": "1.2.0",
          "state": {
            "_model_module": "@jupyter-widgets/base",
            "_model_module_version": "1.2.0",
            "_model_name": "LayoutModel",
            "_view_count": null,
            "_view_module": "@jupyter-widgets/base",
            "_view_module_version": "1.2.0",
            "_view_name": "LayoutView",
            "align_content": null,
            "align_items": null,
            "align_self": null,
            "border": null,
            "bottom": null,
            "display": null,
            "flex": null,
            "flex_flow": null,
            "grid_area": null,
            "grid_auto_columns": null,
            "grid_auto_flow": null,
            "grid_auto_rows": null,
            "grid_column": null,
            "grid_gap": null,
            "grid_row": null,
            "grid_template_areas": null,
            "grid_template_columns": null,
            "grid_template_rows": null,
            "height": null,
            "justify_content": null,
            "justify_items": null,
            "left": null,
            "margin": null,
            "max_height": null,
            "max_width": null,
            "min_height": null,
            "min_width": null,
            "object_fit": null,
            "object_position": null,
            "order": null,
            "overflow": null,
            "overflow_x": null,
            "overflow_y": null,
            "padding": null,
            "right": null,
            "top": null,
            "visibility": null,
            "width": null
          }
        }
      }
    }
  },
  "cells": [
    {
      "cell_type": "markdown",
      "metadata": {
        "id": "view-in-github",
        "colab_type": "text"
      },
      "source": [
        "<a href=\"https://colab.research.google.com/github/yuloonwong/fastbook/blob/master/Women_Classifier.ipynb\" target=\"_parent\"><img src=\"https://colab.research.google.com/assets/colab-badge.svg\" alt=\"Open In Colab\"/></a>"
      ]
    },
    {
      "cell_type": "code",
      "execution_count": 16,
      "metadata": {
        "id": "lp92kuzM8VJW"
      },
      "outputs": [],
      "source": [
        "from fastai.vision.all import *\n",
        "from fastai.vision.widgets import *"
      ]
    },
    {
      "cell_type": "code",
      "source": [
        "from google.colab import drive\n",
        "drive.mount('/content/gdrive/', force_remount=True)"
      ],
      "metadata": {
        "colab": {
          "base_uri": "https://localhost:8080/"
        },
        "id": "lm_gOILNGPBV",
        "outputId": "ee57cdb6-c7d4-449e-dbfc-1b25ef62f3ce"
      },
      "execution_count": 18,
      "outputs": [
        {
          "output_type": "stream",
          "name": "stdout",
          "text": [
            "Mounted at /content/gdrive/\n"
          ]
        }
      ]
    },
    {
      "cell_type": "code",
      "source": [
        "os.chdir('/content/gdrive/MyDrive/Colab Notebooks')"
      ],
      "metadata": {
        "id": "phFLKK7MAsaA"
      },
      "execution_count": 20,
      "outputs": []
    },
    {
      "cell_type": "code",
      "source": [
        "path = Path()\n",
        "learn_inf = load_learner(path/'export.pkl') \n",
        "btn_upload = widgets.FileUpload()\n",
        "out_pl = widgets.Output()\n",
        "lbl_pred = widgets.Label()\n",
        "btn_run = widgets.Button(description='Classify')\n",
        "\n",
        "\n",
        "\n",
        "btn_upload = SimpleNamespace(data = ['images/hotwomen.jpg'])\n",
        "img = PILImage.create(btn_upload.data[-1])"
      ],
      "metadata": {
        "id": "xeWClXKW9Ejl"
      },
      "execution_count": 21,
      "outputs": []
    },
    {
      "cell_type": "code",
      "source": [
        "btn_run = widgets.Button(description='Classify')\n",
        "\n",
        "\n",
        "def on_click_classify(change):\n",
        "  img = PILImage.create(btn_upload.data[-1])\n",
        "  out_pl.clear_output()\n",
        "  with out_pl: display(img.to_thumb(128,128))\n",
        "  pred,pred_idx,probs = learn_inf.predict(img)\n",
        "  lbl_pred.value = f'Prediction: {pred}; Probability: {probs[pred_idx]:.04f}'\n",
        "\n",
        "btn_run.on_click(on_click_classify)"
      ],
      "metadata": {
        "id": "uG3Cs8ET-tOR"
      },
      "execution_count": 22,
      "outputs": []
    },
    {
      "cell_type": "code",
      "source": [
        "btn_upload = widgets.FileUpload()\n",
        "\n",
        "VBox([widgets.Label('Select your lady!'), \n",
        "      btn_upload, btn_run, out_pl, lbl_pred])"
      ],
      "metadata": {
        "colab": {
          "base_uri": "https://localhost:8080/",
          "height": 273,
          "referenced_widgets": [
            "b00bb68cea254e9daf9d8c7182cf7c53",
            "d72b51e89c0a41a38245cc5a2c8743aa",
            "372bef73b7404172801aa4ed7bf1015c",
            "910b1bcc73074032841fbda9fd2e833f",
            "3d0dbb14fe00493f8f41691eea31ae3b",
            "0866c2ab2f2f4001943cb91763231dda",
            "904f7441f8764120af12cc817aa3d41c",
            "7664fca8152849cba5b57a2389d447b2",
            "eded1ed5b30f43d99fb60c255241efb7",
            "bfb89c5fdc7b4852b1e888615002bdc7",
            "8093505aa0164e4db04f08cfa4768ed1",
            "a2041e13d8074eec84d00de4245bc9bd",
            "7489279268054ffaae8f3c081dc1319d",
            "360569ec865f465a9e4f2cc4f64ac361",
            "420d8faa8bf340949fd25edf96c66cd0",
            "406e2fb7a4df43bfa3ada24e47208f93"
          ]
        },
        "id": "dU7LAEPh_eiK",
        "outputId": "e5053c32-6fc3-430e-df9c-c044f80391d7"
      },
      "execution_count": 23,
      "outputs": [
        {
          "output_type": "display_data",
          "data": {
            "text/plain": [
              "VBox(children=(Label(value='Select your lady!'), FileUpload(value={}, description='Upload'), Button(descriptio…"
            ],
            "application/vnd.jupyter.widget-view+json": {
              "version_major": 2,
              "version_minor": 0,
              "model_id": "b00bb68cea254e9daf9d8c7182cf7c53"
            }
          },
          "metadata": {}
        },
        {
          "output_type": "display_data",
          "data": {
            "text/plain": [
              "<IPython.core.display.HTML object>"
            ],
            "text/html": [
              "\n",
              "<style>\n",
              "    /* Turns off some styling */\n",
              "    progress {\n",
              "        /* gets rid of default border in Firefox and Opera. */\n",
              "        border: none;\n",
              "        /* Needs to be in here for Safari polyfill so background images work as expected. */\n",
              "        background-size: auto;\n",
              "    }\n",
              "    progress:not([value]), progress:not([value])::-webkit-progress-bar {\n",
              "        background: repeating-linear-gradient(45deg, #7e7e7e, #7e7e7e 10px, #5c5c5c 10px, #5c5c5c 20px);\n",
              "    }\n",
              "    .progress-bar-interrupted, .progress-bar-interrupted::-webkit-progress-bar {\n",
              "        background: #F44336;\n",
              "    }\n",
              "</style>\n"
            ]
          },
          "metadata": {}
        },
        {
          "output_type": "display_data",
          "data": {
            "text/plain": [
              "<IPython.core.display.HTML object>"
            ],
            "text/html": []
          },
          "metadata": {}
        }
      ]
    },
    {
      "cell_type": "code",
      "source": [
        "!pip install voila\n",
        "!jupyter serverextension enable --sys-prefix voila"
      ],
      "metadata": {
        "colab": {
          "base_uri": "https://localhost:8080/"
        },
        "id": "nyp9UoMkG3yw",
        "outputId": "9eacab5d-a59f-4456-f675-0cd3063dd4bb"
      },
      "execution_count": 24,
      "outputs": [
        {
          "output_type": "stream",
          "name": "stdout",
          "text": [
            "Looking in indexes: https://pypi.org/simple, https://us-python.pkg.dev/colab-wheels/public/simple/\n",
            "Collecting voila\n",
            "  Downloading voila-0.4.0-py3-none-any.whl (5.5 MB)\n",
            "\u001b[2K     \u001b[90m━━━━━━━━━━━━━━━━━━━━━━━━━━━━━━━━━━━━━━━━\u001b[0m \u001b[32m5.5/5.5 MB\u001b[0m \u001b[31m36.8 MB/s\u001b[0m eta \u001b[36m0:00:00\u001b[0m\n",
            "\u001b[?25hCollecting nbclient<0.8,>=0.4.0\n",
            "  Downloading nbclient-0.7.2-py3-none-any.whl (71 kB)\n",
            "\u001b[2K     \u001b[90m━━━━━━━━━━━━━━━━━━━━━━━━━━━━━━━━━━━━━━━━\u001b[0m \u001b[32m72.0/72.0 KB\u001b[0m \u001b[31m7.7 MB/s\u001b[0m eta \u001b[36m0:00:00\u001b[0m\n",
            "\u001b[?25hRequirement already satisfied: jupyter-core>=4.11.0 in /usr/local/lib/python3.8/dist-packages (from voila) (5.1.3)\n",
            "Collecting jupyterlab-server<3,>=2.3.0\n",
            "  Downloading jupyterlab_server-2.19.0-py3-none-any.whl (56 kB)\n",
            "\u001b[2K     \u001b[90m━━━━━━━━━━━━━━━━━━━━━━━━━━━━━━━━━━━━━━━━\u001b[0m \u001b[32m56.4/56.4 KB\u001b[0m \u001b[31m5.9 MB/s\u001b[0m eta \u001b[36m0:00:00\u001b[0m\n",
            "\u001b[?25hCollecting nbconvert<8,>=6.4.5\n",
            "  Downloading nbconvert-7.2.9-py3-none-any.whl (274 kB)\n",
            "\u001b[2K     \u001b[90m━━━━━━━━━━━━━━━━━━━━━━━━━━━━━━━━━━━━━━\u001b[0m \u001b[32m274.9/274.9 KB\u001b[0m \u001b[31m25.1 MB/s\u001b[0m eta \u001b[36m0:00:00\u001b[0m\n",
            "\u001b[?25hCollecting websockets>=9.0\n",
            "  Downloading websockets-10.4-cp38-cp38-manylinux_2_5_x86_64.manylinux1_x86_64.manylinux_2_17_x86_64.manylinux2014_x86_64.whl (106 kB)\n",
            "\u001b[2K     \u001b[90m━━━━━━━━━━━━━━━━━━━━━━━━━━━━━━━━━━━━━━\u001b[0m \u001b[32m107.0/107.0 KB\u001b[0m \u001b[31m11.6 MB/s\u001b[0m eta \u001b[36m0:00:00\u001b[0m\n",
            "\u001b[?25hRequirement already satisfied: jupyter-client<=7.4.1,>=6.1.3 in /usr/local/lib/python3.8/dist-packages (from voila) (6.1.12)\n",
            "Collecting jupyter-server<2.0.0,>=1.18\n",
            "  Downloading jupyter_server-1.23.5-py3-none-any.whl (346 kB)\n",
            "\u001b[2K     \u001b[90m━━━━━━━━━━━━━━━━━━━━━━━━━━━━━━━━━━━━━━\u001b[0m \u001b[32m347.0/347.0 KB\u001b[0m \u001b[31m26.0 MB/s\u001b[0m eta \u001b[36m0:00:00\u001b[0m\n",
            "\u001b[?25hRequirement already satisfied: traitlets<6,>=5.0.3 in /usr/local/lib/python3.8/dist-packages (from voila) (5.7.1)\n",
            "Requirement already satisfied: pyzmq>=13 in /usr/local/lib/python3.8/dist-packages (from jupyter-client<=7.4.1,>=6.1.3->voila) (23.2.1)\n",
            "Requirement already satisfied: python-dateutil>=2.1 in /usr/local/lib/python3.8/dist-packages (from jupyter-client<=7.4.1,>=6.1.3->voila) (2.8.2)\n",
            "Requirement already satisfied: tornado>=4.1 in /usr/local/lib/python3.8/dist-packages (from jupyter-client<=7.4.1,>=6.1.3->voila) (6.0.4)\n",
            "Requirement already satisfied: platformdirs>=2.5 in /usr/local/lib/python3.8/dist-packages (from jupyter-core>=4.11.0->voila) (2.6.2)\n",
            "Requirement already satisfied: Send2Trash in /usr/local/lib/python3.8/dist-packages (from jupyter-server<2.0.0,>=1.18->voila) (1.8.0)\n",
            "Requirement already satisfied: jinja2 in /usr/local/lib/python3.8/dist-packages (from jupyter-server<2.0.0,>=1.18->voila) (2.11.3)\n",
            "Collecting websocket-client\n",
            "  Downloading websocket_client-1.5.0-py3-none-any.whl (55 kB)\n",
            "\u001b[2K     \u001b[90m━━━━━━━━━━━━━━━━━━━━━━━━━━━━━━━━━━━━━━━━\u001b[0m \u001b[32m55.9/55.9 KB\u001b[0m \u001b[31m6.5 MB/s\u001b[0m eta \u001b[36m0:00:00\u001b[0m\n",
            "\u001b[?25hRequirement already satisfied: nbformat>=5.2.0 in /usr/local/lib/python3.8/dist-packages (from jupyter-server<2.0.0,>=1.18->voila) (5.7.1)\n",
            "Collecting tornado>=4.1\n",
            "  Downloading tornado-6.2-cp37-abi3-manylinux_2_5_x86_64.manylinux1_x86_64.manylinux_2_17_x86_64.manylinux2014_x86_64.whl (423 kB)\n",
            "\u001b[2K     \u001b[90m━━━━━━━━━━━━━━━━━━━━━━━━━━━━━━━━━━━━━━\u001b[0m \u001b[32m424.0/424.0 KB\u001b[0m \u001b[31m32.8 MB/s\u001b[0m eta \u001b[36m0:00:00\u001b[0m\n",
            "\u001b[?25hCollecting argon2-cffi\n",
            "  Downloading argon2_cffi-21.3.0-py3-none-any.whl (14 kB)\n",
            "Requirement already satisfied: prometheus-client in /usr/local/lib/python3.8/dist-packages (from jupyter-server<2.0.0,>=1.18->voila) (0.15.0)\n",
            "Collecting anyio<4,>=3.1.0\n",
            "  Downloading anyio-3.6.2-py3-none-any.whl (80 kB)\n",
            "\u001b[2K     \u001b[90m━━━━━━━━━━━━━━━━━━━━━━━━━━━━━━━━━━━━━━━━\u001b[0m \u001b[32m80.6/80.6 KB\u001b[0m \u001b[31m8.6 MB/s\u001b[0m eta \u001b[36m0:00:00\u001b[0m\n",
            "\u001b[?25hRequirement already satisfied: packaging in /usr/local/lib/python3.8/dist-packages (from jupyter-server<2.0.0,>=1.18->voila) (21.3)\n",
            "Requirement already satisfied: terminado>=0.8.3 in /usr/local/lib/python3.8/dist-packages (from jupyter-server<2.0.0,>=1.18->voila) (0.13.3)\n",
            "Collecting jinja2\n",
            "  Downloading Jinja2-3.1.2-py3-none-any.whl (133 kB)\n",
            "\u001b[2K     \u001b[90m━━━━━━━━━━━━━━━━━━━━━━━━━━━━━━━━━━━━━━\u001b[0m \u001b[32m133.1/133.1 KB\u001b[0m \u001b[31m12.7 MB/s\u001b[0m eta \u001b[36m0:00:00\u001b[0m\n",
            "\u001b[?25hCollecting requests>=2.28\n",
            "  Downloading requests-2.28.2-py3-none-any.whl (62 kB)\n",
            "\u001b[2K     \u001b[90m━━━━━━━━━━━━━━━━━━━━━━━━━━━━━━━━━━━━━━━━\u001b[0m \u001b[32m62.8/62.8 KB\u001b[0m \u001b[31m7.0 MB/s\u001b[0m eta \u001b[36m0:00:00\u001b[0m\n",
            "\u001b[?25hCollecting json5>=0.9.0\n",
            "  Downloading json5-0.9.11-py2.py3-none-any.whl (19 kB)\n",
            "Collecting jsonschema>=4.17.3\n",
            "  Downloading jsonschema-4.17.3-py3-none-any.whl (90 kB)\n",
            "\u001b[2K     \u001b[90m━━━━━━━━━━━━━━━━━━━━━━━━━━━━━━━━━━━━━━━━\u001b[0m \u001b[32m90.4/90.4 KB\u001b[0m \u001b[31m9.2 MB/s\u001b[0m eta \u001b[36m0:00:00\u001b[0m\n",
            "\u001b[?25hRequirement already satisfied: importlib-metadata>=4.8.3 in /usr/local/lib/python3.8/dist-packages (from jupyterlab-server<3,>=2.3.0->voila) (6.0.0)\n",
            "Requirement already satisfied: babel>=2.10 in /usr/local/lib/python3.8/dist-packages (from jupyterlab-server<3,>=2.3.0->voila) (2.11.0)\n",
            "Requirement already satisfied: defusedxml in /usr/local/lib/python3.8/dist-packages (from nbconvert<8,>=6.4.5->voila) (0.7.1)\n",
            "Collecting mistune<3,>=2.0.3\n",
            "  Downloading mistune-2.0.4-py2.py3-none-any.whl (24 kB)\n",
            "Requirement already satisfied: bleach in /usr/local/lib/python3.8/dist-packages (from nbconvert<8,>=6.4.5->voila) (5.0.1)\n",
            "Requirement already satisfied: beautifulsoup4 in /usr/local/lib/python3.8/dist-packages (from nbconvert<8,>=6.4.5->voila) (4.6.3)\n",
            "Requirement already satisfied: pygments>=2.4.1 in /usr/local/lib/python3.8/dist-packages (from nbconvert<8,>=6.4.5->voila) (2.6.1)\n",
            "Requirement already satisfied: pandocfilters>=1.4.1 in /usr/local/lib/python3.8/dist-packages (from nbconvert<8,>=6.4.5->voila) (1.5.0)\n",
            "Collecting tinycss2\n",
            "  Downloading tinycss2-1.2.1-py3-none-any.whl (21 kB)\n",
            "Collecting jupyterlab-pygments\n",
            "  Downloading jupyterlab_pygments-0.2.2-py2.py3-none-any.whl (21 kB)\n",
            "Requirement already satisfied: markupsafe>=2.0 in /usr/local/lib/python3.8/dist-packages (from nbconvert<8,>=6.4.5->voila) (2.0.1)\n",
            "Collecting sniffio>=1.1\n",
            "  Downloading sniffio-1.3.0-py3-none-any.whl (10 kB)\n",
            "Requirement already satisfied: idna>=2.8 in /usr/local/lib/python3.8/dist-packages (from anyio<4,>=3.1.0->jupyter-server<2.0.0,>=1.18->voila) (2.10)\n",
            "Requirement already satisfied: pytz>=2015.7 in /usr/local/lib/python3.8/dist-packages (from babel>=2.10->jupyterlab-server<3,>=2.3.0->voila) (2022.7)\n",
            "Requirement already satisfied: zipp>=0.5 in /usr/local/lib/python3.8/dist-packages (from importlib-metadata>=4.8.3->jupyterlab-server<3,>=2.3.0->voila) (3.11.0)\n",
            "Requirement already satisfied: importlib-resources>=1.4.0 in /usr/local/lib/python3.8/dist-packages (from jsonschema>=4.17.3->jupyterlab-server<3,>=2.3.0->voila) (5.10.2)\n",
            "Collecting pkgutil-resolve-name>=1.3.10\n",
            "  Downloading pkgutil_resolve_name-1.3.10-py3-none-any.whl (4.7 kB)\n",
            "Requirement already satisfied: pyrsistent!=0.17.0,!=0.17.1,!=0.17.2,>=0.14.0 in /usr/local/lib/python3.8/dist-packages (from jsonschema>=4.17.3->jupyterlab-server<3,>=2.3.0->voila) (0.19.3)\n",
            "Requirement already satisfied: attrs>=17.4.0 in /usr/local/lib/python3.8/dist-packages (from jsonschema>=4.17.3->jupyterlab-server<3,>=2.3.0->voila) (22.2.0)\n",
            "Requirement already satisfied: fastjsonschema in /usr/local/lib/python3.8/dist-packages (from nbformat>=5.2.0->jupyter-server<2.0.0,>=1.18->voila) (2.16.2)\n",
            "Requirement already satisfied: pyparsing!=3.0.5,>=2.0.2 in /usr/local/lib/python3.8/dist-packages (from packaging->jupyter-server<2.0.0,>=1.18->voila) (3.0.9)\n",
            "Requirement already satisfied: six>=1.5 in /usr/local/lib/python3.8/dist-packages (from python-dateutil>=2.1->jupyter-client<=7.4.1,>=6.1.3->voila) (1.15.0)\n",
            "Requirement already satisfied: charset-normalizer<4,>=2 in /usr/local/lib/python3.8/dist-packages (from requests>=2.28->jupyterlab-server<3,>=2.3.0->voila) (2.1.1)\n",
            "Requirement already satisfied: certifi>=2017.4.17 in /usr/local/lib/python3.8/dist-packages (from requests>=2.28->jupyterlab-server<3,>=2.3.0->voila) (2022.12.7)\n",
            "Requirement already satisfied: urllib3<1.27,>=1.21.1 in /usr/local/lib/python3.8/dist-packages (from requests>=2.28->jupyterlab-server<3,>=2.3.0->voila) (1.24.3)\n",
            "Requirement already satisfied: ptyprocess in /usr/local/lib/python3.8/dist-packages (from terminado>=0.8.3->jupyter-server<2.0.0,>=1.18->voila) (0.7.0)\n",
            "Collecting argon2-cffi-bindings\n",
            "  Downloading argon2_cffi_bindings-21.2.0-cp36-abi3-manylinux_2_17_x86_64.manylinux2014_x86_64.whl (86 kB)\n",
            "\u001b[2K     \u001b[90m━━━━━━━━━━━━━━━━━━━━━━━━━━━━━━━━━━━━━━━━\u001b[0m \u001b[32m86.2/86.2 KB\u001b[0m \u001b[31m9.3 MB/s\u001b[0m eta \u001b[36m0:00:00\u001b[0m\n",
            "\u001b[?25hRequirement already satisfied: webencodings in /usr/local/lib/python3.8/dist-packages (from bleach->nbconvert<8,>=6.4.5->voila) (0.5.1)\n",
            "Requirement already satisfied: cffi>=1.0.1 in /usr/local/lib/python3.8/dist-packages (from argon2-cffi-bindings->argon2-cffi->jupyter-server<2.0.0,>=1.18->voila) (1.15.1)\n",
            "Requirement already satisfied: pycparser in /usr/local/lib/python3.8/dist-packages (from cffi>=1.0.1->argon2-cffi-bindings->argon2-cffi->jupyter-server<2.0.0,>=1.18->voila) (2.21)\n",
            "Installing collected packages: mistune, json5, websockets, websocket-client, tornado, tinycss2, sniffio, requests, pkgutil-resolve-name, jupyterlab-pygments, jinja2, jsonschema, argon2-cffi-bindings, anyio, argon2-cffi, nbclient, nbconvert, jupyter-server, jupyterlab-server, voila\n",
            "  Attempting uninstall: mistune\n",
            "    Found existing installation: mistune 0.8.4\n",
            "    Uninstalling mistune-0.8.4:\n",
            "      Successfully uninstalled mistune-0.8.4\n",
            "  Attempting uninstall: tornado\n",
            "    Found existing installation: tornado 6.0.4\n",
            "    Uninstalling tornado-6.0.4:\n",
            "      Successfully uninstalled tornado-6.0.4\n",
            "  Attempting uninstall: requests\n",
            "    Found existing installation: requests 2.25.1\n",
            "    Uninstalling requests-2.25.1:\n",
            "      Successfully uninstalled requests-2.25.1\n",
            "  Attempting uninstall: jinja2\n",
            "    Found existing installation: Jinja2 2.11.3\n",
            "    Uninstalling Jinja2-2.11.3:\n",
            "      Successfully uninstalled Jinja2-2.11.3\n",
            "  Attempting uninstall: jsonschema\n",
            "    Found existing installation: jsonschema 4.3.3\n",
            "    Uninstalling jsonschema-4.3.3:\n",
            "      Successfully uninstalled jsonschema-4.3.3\n",
            "  Attempting uninstall: nbconvert\n",
            "    Found existing installation: nbconvert 5.6.1\n",
            "    Uninstalling nbconvert-5.6.1:\n",
            "      Successfully uninstalled nbconvert-5.6.1\n",
            "\u001b[31mERROR: pip's dependency resolver does not currently take into account all the packages that are installed. This behaviour is the source of the following dependency conflicts.\n",
            "notebook 5.7.16 requires jinja2<=3.0.0, but you have jinja2 3.1.2 which is incompatible.\n",
            "notebook 5.7.16 requires nbconvert<6.0, but you have nbconvert 7.2.9 which is incompatible.\n",
            "google-colab 1.0.0 requires tornado~=6.0.4, but you have tornado 6.2 which is incompatible.\n",
            "flask 1.1.4 requires Jinja2<3.0,>=2.10.1, but you have jinja2 3.1.2 which is incompatible.\u001b[0m\u001b[31m\n",
            "\u001b[0mSuccessfully installed anyio-3.6.2 argon2-cffi-21.3.0 argon2-cffi-bindings-21.2.0 jinja2-3.1.2 json5-0.9.11 jsonschema-4.17.3 jupyter-server-1.23.5 jupyterlab-pygments-0.2.2 jupyterlab-server-2.19.0 mistune-2.0.4 nbclient-0.7.2 nbconvert-7.2.9 pkgutil-resolve-name-1.3.10 requests-2.28.2 sniffio-1.3.0 tinycss2-1.2.1 tornado-6.2 voila-0.4.0 websocket-client-1.5.0 websockets-10.4\n",
            "Enabling: voila\n",
            "- Writing config: /usr/etc/jupyter\n",
            "    - Validating...\n",
            "      voila 0.4.0 \u001b[32mOK\u001b[0m\n"
          ]
        }
      ]
    },
    {
      "cell_type": "code",
      "source": [],
      "metadata": {
        "id": "EKzcFnTUG87t"
      },
      "execution_count": null,
      "outputs": []
    }
  ]
}